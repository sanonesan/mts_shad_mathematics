{
 "cells": [
  {
   "cell_type": "markdown",
   "metadata": {},
   "source": [
    "# Домашнее задание \n",
    "# Математика — Домашнее задание 15\n",
    "\n",
    "# А.&#8201;Д. Егоров"
   ]
  },
  {
   "cell_type": "code",
   "execution_count": 1,
   "metadata": {},
   "outputs": [],
   "source": [
    "import numpy as np \n",
    "from scipy import optimize as opt \n",
    "import pandas as pd\n",
    "\n",
    "import matplotlib.pyplot as plt\n",
    "import seaborn as sns\n",
    "\n",
    "from typing import Tuple\n",
    "from collections import Counter\n",
    "\n",
    "# Подгрузим полезные функции\n",
    "from utils import *\n",
    "\n",
    "# Сделаем автоподгрузку всех изменений при перепрогонке ячейки\n",
    "%load_ext autoreload\n",
    "%autoreload 2\n",
    "\n",
    "# plt.style.use('https://github.com/dhaitz/matplotlib-stylesheets/raw/master/pitayasmoothie-light.mplstyle')\n",
    "plt.style.use(\"seaborn\")\n",
    "\n",
    "%matplotlib inline\n",
    "# sns.set_palette(palette=\"Reds\")\n"
   ]
  },
  {
   "cell_type": "markdown",
   "metadata": {},
   "source": [
    "## Задание $№\\,1$\n",
    "\n",
    "### Условие\n",
    "Сгенерируйте датасет со случайными нормально распределенными величинами\n",
    "$$\n",
    "    x_1 \\sim N\\left( \\mu_1, \\sigma_1^2 \\right), \n",
    "    \\quad \n",
    "    x_2 \\sim N\\left( \\mu_2, \\sigma_2^2 \\right),\n",
    "    \\quad\n",
    "    x_3 \\sim N\\left( \\mu_3, \\sigma_3^2 \\right),\n",
    "$$\n",
    "$$\n",
    "    corr(x_1, x_2) = 0.0, \n",
    "    \\quad\n",
    "    corr(x_1, x_3) = 0.0, \n",
    "    \\quad\n",
    "    corr(x_2, x_3) = 0.8, \n",
    "$$\n",
    "размер выборки $N = 1000$.\n",
    "\n",
    "Сгенерируйте зависимую переменную $y$ по формуле\n",
    "$$\n",
    "    y = \\beta_0 + \\beta_1 x_1 + \\beta_2 x_2 + \\beta_3 x_3 + \\varepsilon,\n",
    "$$\n",
    "где $\\varepsilon \\sim N\\left(0, \\sigma_\\varepsilon^2\\right), \\ \\beta_i \\ne 0, \\ i = \\overline{0, 3}.$\n",
    "\n",
    "Требуется: \n",
    "\n",
    "Провести процедуру симуляции выборки для данной задачи на 10 тыс. итерациях.\n",
    "Итеративно сохранив нужные результаты модели:\n",
    "1. Проверить утверждение, что \"Коэффициет модели $\\beta_1$ примерно в $95\\%$ итераций попадает в доверительные итревалы коэффициента $\\widehat\\beta_1$ при уровне значимости $\\alpha=0.05$.\"\n",
    "2. Найти долю итераций, к которых коэффициенты модели $\\beta_2, \\ , \\beta_3$ попадают в доверительные интервалы для $\\widehat\\beta_2, \\ \\widehat\\beta_3$."
   ]
  },
  {
   "cell_type": "markdown",
   "metadata": {},
   "source": [
    "### Решение"
   ]
  },
  {
   "cell_type": "markdown",
   "metadata": {},
   "source": [
    "#### Задаем параметры распределений"
   ]
  },
  {
   "cell_type": "code",
   "execution_count": 2,
   "metadata": {},
   "outputs": [],
   "source": [
    "# Определим параметры выборки для задачи пропущенной переменной\n",
    "# Создадим удобный словарь, чтобы передавать его в функцию\n",
    "dist_params = dict(\n",
    "\n",
    "    # Зададим параметры распределения факторов\n",
    "    x1_mean = 10.0,\n",
    "    x1_std = 10.0,\n",
    "    x2_mean = 20.0,\n",
    "    x2_std = 12.0,\n",
    "    x3_mean = 7.0,\n",
    "    x3_std = 20.0,\n",
    "    corr_12 = 0.0,\n",
    "    corr_13 = 0.0,\n",
    "    corr_23 = 0.8,\n",
    "    \n",
    "    # Зададим параметры распределения ошибки\n",
    "    e_mean = 0.0,\n",
    "    e_std = 8.0,\n",
    "\n",
    "    # Укажем размер выборки\n",
    "    N = 1000,\n",
    "\n",
    "    # Зададим действительные параметры модели\n",
    "    beta0 = 33.0,\n",
    "    beta1 = 7.0,\n",
    "    beta2 = -5.0,\n",
    "    beta3 = 44.0,\n",
    ")\n",
    "\n",
    "RANDOM_SEED = 42"
   ]
  },
  {
   "cell_type": "markdown",
   "metadata": {},
   "source": [
    "#### Прогон 10 тыс. итераций"
   ]
  },
  {
   "cell_type": "code",
   "execution_count": 3,
   "metadata": {},
   "outputs": [],
   "source": [
    "res = {\n",
    "    \"beta_1_in_conf_int\": [],\n",
    "    \"beta_2_in_conf_int\": [],\n",
    "    \"beta_3_in_conf_int\": [],\n",
    "}\n",
    "\n",
    "def cond_beta_in_conf_int(beta, conf_int) -> bool:\n",
    "    return (conf_int[0] <= beta) & (beta <= conf_int[1])\n",
    "\n",
    "for i in range(0, 10_000):\n",
    "\n",
    "    dt_var = gen_data(\n",
    "        y_type=\"multivariate\",\n",
    "        params=dist_params,\n",
    "        seed=RANDOM_SEED + i,\n",
    "    )\n",
    "    _, model_vars = train_model(\n",
    "        dt_var,\n",
    "        target=\"y\",\n",
    "        feature_names=[\"x1\", \"x2\", \"x3\"],\n",
    "        show_results=False,\n",
    "        return_norm_tests=False,\n",
    "    )\n",
    "\n",
    "    for j in (1, 2, 3):\n",
    "        res[f\"beta_{j}_in_conf_int\"].append(\n",
    "            cond_beta_in_conf_int(\n",
    "                beta=dist_params[f\"beta{j}\"],\n",
    "                conf_int=model_vars.conf_int(alpha=0.05).iloc[j],\n",
    "            )\n",
    "        )"
   ]
  },
  {
   "cell_type": "code",
   "execution_count": 4,
   "metadata": {},
   "outputs": [
    {
     "name": "stdout",
     "output_type": "stream",
     "text": [
      "For beta_1:\n",
      "    \t In conf int: 9523,\n",
      "    \t Out of conf int: 477.\n",
      "\n",
      "For beta_2:\n",
      "    \t In conf int: 9475,\n",
      "    \t Out of conf int: 525.\n",
      "\n",
      "For beta_3:\n",
      "    \t In conf int: 9479,\n",
      "    \t Out of conf int: 521.\n",
      "\n"
     ]
    }
   ],
   "source": [
    "cnt_1 = Counter(res[\"beta_1_in_conf_int\"])\n",
    "cnt_2 = Counter(res[\"beta_2_in_conf_int\"])\n",
    "cnt_3 = Counter(res[\"beta_3_in_conf_int\"])\n",
    "\n",
    "print(\n",
    "    f\"\"\"For beta_1:\n",
    "    \\t In conf int: {cnt_1[True]},\n",
    "    \\t Out of conf int: {cnt_1[False]}.\\n\"\"\"\n",
    ")\n",
    "\n",
    "print(\n",
    "    f\"\"\"For beta_2:\n",
    "    \\t In conf int: {cnt_2[True]},\n",
    "    \\t Out of conf int: {cnt_2[False]}.\\n\"\"\"\n",
    ")\n",
    "\n",
    "print(\n",
    "    f\"\"\"For beta_3:\n",
    "    \\t In conf int: {cnt_3[True]},\n",
    "    \\t Out of conf int: {cnt_3[False]}.\\n\"\"\"\n",
    ")"
   ]
  },
  {
   "cell_type": "markdown",
   "metadata": {},
   "source": [
    "#### Интерпретация результатов"
   ]
  },
  {
   "cell_type": "markdown",
   "metadata": {},
   "source": [
    "#### 1.\n",
    "$$\n",
    "    \\Big\\{ \\text{Доля $\\beta_1$, попавших в доверительный интервал ($\\alpha = 0.05$)} \\Big\\}\n",
    "    = \\dfrac{9523}{10000} = 0.9523,\n",
    "$$\n",
    "что примерно эквивалентно $95\\%$. Следовательно, утверждение верное.\n",
    "\n",
    "\n",
    "#### 2.\n",
    "$$\n",
    "    \\Big\\{ \\text{Доля $\\beta_2$, попавших в доверительный интервал ($\\alpha = 0.05$)} \\Big\\}\n",
    "    = \\dfrac{9475}{10000} = 0.9475.\n",
    "$$\n",
    "\n",
    "$$\n",
    "    \\Big\\{ \\text{Доля $\\beta_3$, попавших в доверительный интервал ($\\alpha = 0.05$)} \\Big\\}\n",
    "    = \\dfrac{9479}{10000} = 0.9479.\n",
    "$$"
   ]
  },
  {
   "cell_type": "markdown",
   "metadata": {},
   "source": [
    "## Задание $№\\,2$\n",
    "\n",
    "Загрузите датасет с информацией о сердечных болезнях и их индикаторах - Heart Disease Health Indicators Dataset. Oн\n",
    "содержит данные по результатам опроса, проведенного в 1985 году, в нем описана выборка респондентов:\n",
    "- Приведена разметка наличия проблем с сердцем: HeartDiseaseorAttack\n",
    "- Приведена 21 характеристика респондента о его соц-дем положении и здоровье\n",
    "\n",
    "Датасет сам по себе уже довольно чистый, поэтому позволяет работать с данными в их сыром виде. Он содержит 253 680 наблюдений, среди которых у 23 893 респондентов присутствовало сердечное заболевание. То есть присутствует несильный, но некий имбаланс классов. Допустим, вы заинтересованы в подготовке модели, которая могла бы помочь врачам идентифицировать склонных к сердечным заболеваниям пациентов. Подготовить такую модель вы решили на предоставленном датасете.\n",
    "\n",
    "В прикрепленных практических материалах для вас уже подготовлен скрипт, позволяющий оценить модель на этих данных.\n",
    "Но в демонстрации используется несколько переменных, вам же потребуется весь датасет.\n",
    "\n",
    "Требуется: \n",
    "1. Используя материалы для лекции №4, обучите модель логистической регрессии на данных о сердечных заболеваниях на\n",
    "всех предоставленных в датасете факторах. Можно использовать настройку \n",
    "```class weight='balanced'```. Подготовьте\n",
    "Classification report, Confusion matrix, график распределения плотности предсказанных скоров модели по классам 0 и 1.\n",
    "2. Дайте развернутые комментарии по полученным результатам: о чем вам говорят значение метрик Precision и Recall? Как\n",
    "можно трактовать значения метрик F1-macro, ROC-AUC?\n",
    "3. Если бы за 1 месяц к вам на осмотр пришло 100 человек и вы ставили диагноз «склонность к сердечным болезням» только\n",
    "по модели, то в среднем скольким из них вы бы поставили диагноз корректно, ошибочно, скольких потенциальных\n",
    "больных упустили? Как вы считаете, насколько полученная вами модель хороша для применения на практике для\n",
    "определения склонных к заболеваниям пациентов?"
   ]
  },
  {
   "cell_type": "code",
   "execution_count": 5,
   "metadata": {},
   "outputs": [
    {
     "data": {
      "text/plain": [
       "(253680, 22)"
      ]
     },
     "execution_count": 5,
     "metadata": {},
     "output_type": "execute_result"
    }
   ],
   "source": [
    "df_HD = pd.read_csv(\"./heart_disease_health_indicators_BRFSS2015.csv\")\n",
    "df_HD.shape"
   ]
  },
  {
   "cell_type": "code",
   "execution_count": 6,
   "metadata": {},
   "outputs": [
    {
     "data": {
      "text/html": [
       "<div>\n",
       "<style scoped>\n",
       "    .dataframe tbody tr th:only-of-type {\n",
       "        vertical-align: middle;\n",
       "    }\n",
       "\n",
       "    .dataframe tbody tr th {\n",
       "        vertical-align: top;\n",
       "    }\n",
       "\n",
       "    .dataframe thead th {\n",
       "        text-align: right;\n",
       "    }\n",
       "</style>\n",
       "<table border=\"1\" class=\"dataframe\">\n",
       "  <thead>\n",
       "    <tr style=\"text-align: right;\">\n",
       "      <th></th>\n",
       "      <th>HeartDiseaseorAttack</th>\n",
       "      <th>HighBP</th>\n",
       "      <th>HighChol</th>\n",
       "      <th>CholCheck</th>\n",
       "      <th>BMI</th>\n",
       "      <th>Smoker</th>\n",
       "      <th>Stroke</th>\n",
       "      <th>Diabetes</th>\n",
       "      <th>PhysActivity</th>\n",
       "      <th>Fruits</th>\n",
       "      <th>...</th>\n",
       "      <th>AnyHealthcare</th>\n",
       "      <th>NoDocbcCost</th>\n",
       "      <th>GenHlth</th>\n",
       "      <th>MentHlth</th>\n",
       "      <th>PhysHlth</th>\n",
       "      <th>DiffWalk</th>\n",
       "      <th>Sex</th>\n",
       "      <th>Age</th>\n",
       "      <th>Education</th>\n",
       "      <th>Income</th>\n",
       "    </tr>\n",
       "  </thead>\n",
       "  <tbody>\n",
       "    <tr>\n",
       "      <th>0</th>\n",
       "      <td>0.0</td>\n",
       "      <td>1.0</td>\n",
       "      <td>1.0</td>\n",
       "      <td>1.0</td>\n",
       "      <td>40.0</td>\n",
       "      <td>1.0</td>\n",
       "      <td>0.0</td>\n",
       "      <td>0.0</td>\n",
       "      <td>0.0</td>\n",
       "      <td>0.0</td>\n",
       "      <td>...</td>\n",
       "      <td>1.0</td>\n",
       "      <td>0.0</td>\n",
       "      <td>5.0</td>\n",
       "      <td>18.0</td>\n",
       "      <td>15.0</td>\n",
       "      <td>1.0</td>\n",
       "      <td>0.0</td>\n",
       "      <td>9.0</td>\n",
       "      <td>4.0</td>\n",
       "      <td>3.0</td>\n",
       "    </tr>\n",
       "    <tr>\n",
       "      <th>1</th>\n",
       "      <td>0.0</td>\n",
       "      <td>0.0</td>\n",
       "      <td>0.0</td>\n",
       "      <td>0.0</td>\n",
       "      <td>25.0</td>\n",
       "      <td>1.0</td>\n",
       "      <td>0.0</td>\n",
       "      <td>0.0</td>\n",
       "      <td>1.0</td>\n",
       "      <td>0.0</td>\n",
       "      <td>...</td>\n",
       "      <td>0.0</td>\n",
       "      <td>1.0</td>\n",
       "      <td>3.0</td>\n",
       "      <td>0.0</td>\n",
       "      <td>0.0</td>\n",
       "      <td>0.0</td>\n",
       "      <td>0.0</td>\n",
       "      <td>7.0</td>\n",
       "      <td>6.0</td>\n",
       "      <td>1.0</td>\n",
       "    </tr>\n",
       "    <tr>\n",
       "      <th>2</th>\n",
       "      <td>0.0</td>\n",
       "      <td>1.0</td>\n",
       "      <td>1.0</td>\n",
       "      <td>1.0</td>\n",
       "      <td>28.0</td>\n",
       "      <td>0.0</td>\n",
       "      <td>0.0</td>\n",
       "      <td>0.0</td>\n",
       "      <td>0.0</td>\n",
       "      <td>1.0</td>\n",
       "      <td>...</td>\n",
       "      <td>1.0</td>\n",
       "      <td>1.0</td>\n",
       "      <td>5.0</td>\n",
       "      <td>30.0</td>\n",
       "      <td>30.0</td>\n",
       "      <td>1.0</td>\n",
       "      <td>0.0</td>\n",
       "      <td>9.0</td>\n",
       "      <td>4.0</td>\n",
       "      <td>8.0</td>\n",
       "    </tr>\n",
       "    <tr>\n",
       "      <th>3</th>\n",
       "      <td>0.0</td>\n",
       "      <td>1.0</td>\n",
       "      <td>0.0</td>\n",
       "      <td>1.0</td>\n",
       "      <td>27.0</td>\n",
       "      <td>0.0</td>\n",
       "      <td>0.0</td>\n",
       "      <td>0.0</td>\n",
       "      <td>1.0</td>\n",
       "      <td>1.0</td>\n",
       "      <td>...</td>\n",
       "      <td>1.0</td>\n",
       "      <td>0.0</td>\n",
       "      <td>2.0</td>\n",
       "      <td>0.0</td>\n",
       "      <td>0.0</td>\n",
       "      <td>0.0</td>\n",
       "      <td>0.0</td>\n",
       "      <td>11.0</td>\n",
       "      <td>3.0</td>\n",
       "      <td>6.0</td>\n",
       "    </tr>\n",
       "    <tr>\n",
       "      <th>4</th>\n",
       "      <td>0.0</td>\n",
       "      <td>1.0</td>\n",
       "      <td>1.0</td>\n",
       "      <td>1.0</td>\n",
       "      <td>24.0</td>\n",
       "      <td>0.0</td>\n",
       "      <td>0.0</td>\n",
       "      <td>0.0</td>\n",
       "      <td>1.0</td>\n",
       "      <td>1.0</td>\n",
       "      <td>...</td>\n",
       "      <td>1.0</td>\n",
       "      <td>0.0</td>\n",
       "      <td>2.0</td>\n",
       "      <td>3.0</td>\n",
       "      <td>0.0</td>\n",
       "      <td>0.0</td>\n",
       "      <td>0.0</td>\n",
       "      <td>11.0</td>\n",
       "      <td>5.0</td>\n",
       "      <td>4.0</td>\n",
       "    </tr>\n",
       "  </tbody>\n",
       "</table>\n",
       "<p>5 rows × 22 columns</p>\n",
       "</div>"
      ],
      "text/plain": [
       "   HeartDiseaseorAttack  HighBP  HighChol  CholCheck   BMI  Smoker  Stroke  \\\n",
       "0                   0.0     1.0       1.0        1.0  40.0     1.0     0.0   \n",
       "1                   0.0     0.0       0.0        0.0  25.0     1.0     0.0   \n",
       "2                   0.0     1.0       1.0        1.0  28.0     0.0     0.0   \n",
       "3                   0.0     1.0       0.0        1.0  27.0     0.0     0.0   \n",
       "4                   0.0     1.0       1.0        1.0  24.0     0.0     0.0   \n",
       "\n",
       "   Diabetes  PhysActivity  Fruits  ...  AnyHealthcare  NoDocbcCost  GenHlth  \\\n",
       "0       0.0           0.0     0.0  ...            1.0          0.0      5.0   \n",
       "1       0.0           1.0     0.0  ...            0.0          1.0      3.0   \n",
       "2       0.0           0.0     1.0  ...            1.0          1.0      5.0   \n",
       "3       0.0           1.0     1.0  ...            1.0          0.0      2.0   \n",
       "4       0.0           1.0     1.0  ...            1.0          0.0      2.0   \n",
       "\n",
       "   MentHlth  PhysHlth  DiffWalk  Sex   Age  Education  Income  \n",
       "0      18.0      15.0       1.0  0.0   9.0        4.0     3.0  \n",
       "1       0.0       0.0       0.0  0.0   7.0        6.0     1.0  \n",
       "2      30.0      30.0       1.0  0.0   9.0        4.0     8.0  \n",
       "3       0.0       0.0       0.0  0.0  11.0        3.0     6.0  \n",
       "4       3.0       0.0       0.0  0.0  11.0        5.0     4.0  \n",
       "\n",
       "[5 rows x 22 columns]"
      ]
     },
     "execution_count": 6,
     "metadata": {},
     "output_type": "execute_result"
    }
   ],
   "source": [
    "df_HD.head(5)"
   ]
  },
  {
   "cell_type": "markdown",
   "metadata": {},
   "source": [
    "#### Пункт 1"
   ]
  },
  {
   "cell_type": "code",
   "execution_count": 7,
   "metadata": {},
   "outputs": [
    {
     "name": "stdout",
     "output_type": "stream",
     "text": [
      "\n",
      " ================================================== TRAIN RESULTS ================================================== \n",
      "\n",
      "ROC AUC score: 0.848\n",
      "\n",
      "              precision    recall  f1-score   support\n",
      "\n",
      "         0.0       0.97      0.75      0.85    229787\n",
      "         1.0       0.25      0.80      0.38     23893\n",
      "\n",
      "    accuracy                           0.75    253680\n",
      "   macro avg       0.61      0.77      0.61    253680\n",
      "weighted avg       0.90      0.75      0.80    253680\n",
      "\n"
     ]
    },
    {
     "data": {
      "image/png": "[encoded data removed]",
      "text/plain": [
       "<Figure size 640x480 with 1 Axes>"
      ]
     },
     "metadata": {},
     "output_type": "display_data"
    },
    {
     "name": "stderr",
     "output_type": "stream",
     "text": [
      "/home/san/miniconda3/lib/python3.11/site-packages/seaborn/_oldcore.py:1119: FutureWarning: use_inf_as_na option is deprecated and will be removed in a future version. Convert inf values to NaN before operating instead.\n",
      "  with pd.option_context('mode.use_inf_as_na', True):\n"
     ]
    },
    {
     "data": {
      "image/png": "[encoded data removed]",
      "text/plain": [
       "<Figure size 572.125x500 with 1 Axes>"
      ]
     },
     "metadata": {},
     "output_type": "display_data"
    },
    {
     "data": {
      "text/html": [
       "<style type=\"text/css\">\n",
       "#T_ade14_row0_col0, #T_ade14_row0_col1 {\n",
       "  background-color: #b40426;\n",
       "  color: #f1f1f1;\n",
       "}\n",
       "#T_ade14_row1_col0, #T_ade14_row1_col1 {\n",
       "  background-color: #3b4cc0;\n",
       "  color: #f1f1f1;\n",
       "}\n",
       "</style>\n",
       "<table id=\"T_ade14\">\n",
       "  <thead>\n",
       "    <tr>\n",
       "      <th class=\"index_name level0\" >Predicted</th>\n",
       "      <th id=\"T_ade14_level0_col0\" class=\"col_heading level0 col0\" >0.000000</th>\n",
       "      <th id=\"T_ade14_level0_col1\" class=\"col_heading level0 col1\" >1.000000</th>\n",
       "    </tr>\n",
       "    <tr>\n",
       "      <th class=\"index_name level0\" >Actual</th>\n",
       "      <th class=\"blank col0\" >&nbsp;</th>\n",
       "      <th class=\"blank col1\" >&nbsp;</th>\n",
       "    </tr>\n",
       "  </thead>\n",
       "  <tbody>\n",
       "    <tr>\n",
       "      <th id=\"T_ade14_level0_row0\" class=\"row_heading level0 row0\" >0.000000</th>\n",
       "      <td id=\"T_ade14_row0_col0\" class=\"data row0 col0\" >171843</td>\n",
       "      <td id=\"T_ade14_row0_col1\" class=\"data row0 col1\" >57944</td>\n",
       "    </tr>\n",
       "    <tr>\n",
       "      <th id=\"T_ade14_level0_row1\" class=\"row_heading level0 row1\" >1.000000</th>\n",
       "      <td id=\"T_ade14_row1_col0\" class=\"data row1 col0\" >4893</td>\n",
       "      <td id=\"T_ade14_row1_col1\" class=\"data row1 col1\" >19000</td>\n",
       "    </tr>\n",
       "  </tbody>\n",
       "</table>\n"
      ],
      "text/plain": [
       "<pandas.io.formats.style.Styler at 0x7fca5c0f2b90>"
      ]
     },
     "metadata": {},
     "output_type": "display_data"
    }
   ],
   "source": [
    "# Обучим Logit модель на первых 5 колонках + Age\n",
    "dt_logit, model_logit = train_binary(\n",
    "    dataset=df_HD, \n",
    "    target='HeartDiseaseorAttack',\n",
    "    feature_names=df_HD.drop(columns=[\"HeartDiseaseorAttack\"]).columns.to_list(),\n",
    "    plot_feature='Age',\n",
    "    model_type='logit', \n",
    "    pkg='sklearn',\n",
    "    class_weight='balanced',\n",
    ")"
   ]
  },
  {
   "cell_type": "markdown",
   "metadata": {},
   "source": [
    "#### Пункт 2"
   ]
  },
  {
   "cell_type": "markdown",
   "metadata": {},
   "source": [
    "Отталкиваясь от определений Precision и Recall,\n",
    "\n",
    "> Precision - доля корректных предсказаний от всех предсказаний отнесенных к конкретному классу\n",
    "\n",
    "> Recall - доля корректных предсказаний от всех реальных значений пренадлежащих конкретному классу\n",
    "\n",
    "Можно сказать, что с большой долей вероятности, если модель предсказала, что сердечных заболеваний нет (класс 0.0), то можно ей верить. Но не стоит помнить, что это всего лишь статистика, а не точная диагностика. Диагноз должен ставить квалифицинованный специалист.\n",
    "\n",
    "Для пациентов, для которых модель выдает положительный результат (класс 1.0), лучшим вариантом будет пройти обследование. \n",
    "Хоть модель часто и ошибается при отнесении предсказания к классу 1.0, она покрывает 80% всех пациентов, у кого действительно присутствует заболевание.  "
   ]
  },
  {
   "cell_type": "markdown",
   "metadata": {},
   "source": [
    "F1-macro составляет 0.61.  \n",
    "\n",
    "В сравнении с моделью из ноутбука, прикрепленного к лекции, где F1-macro = 0.56, F1-macro вырос, что увеличило валидность использования данной модели."
   ]
  },
  {
   "cell_type": "markdown",
   "metadata": {},
   "source": [
    "ROC AUC score: 0.848\n",
    "\n",
    "ROC AUC показывает, что у нашей модели достаточно хорошее качество ранжирования, что так же указывает на применимость построенной модели."
   ]
  },
  {
   "cell_type": "markdown",
   "metadata": {},
   "source": [
    "#### Пункт 3"
   ]
  },
  {
   "cell_type": "markdown",
   "metadata": {},
   "source": [
    "Из confusion matrix получим доли \n",
    "\n",
    "- корректно поставленных диагнозов: \n",
    "$$\n",
    "\\dfrac{TP + TN}{N} = \\dfrac{19000 + 171843}{253680} = 0.7522981709239988 \\approx 0.75,\n",
    "$$\n",
    "\n",
    "- ошибочно поставленных диагнозов: \n",
    "$$\n",
    "\\dfrac{FP + FN}{N} = \\dfrac{57944 + 4893}{253680} = 0.24770182907600127 \\approx 0.25,\n",
    "$$\n",
    "\n",
    "- шибочно поставленных диагнозов, когда в действительности диагноз положителен:\n",
    "$$\n",
    "\\dfrac{FN}{N} = \\dfrac{4893}{253680} = 0.019288079470198675 \\approx 0.02.\n",
    "$$\n",
    "\n",
    "То есть из 100 человек для 75 диагноз поставили верно, для 25 ошибочно, для 2 человек отрицательный диагноз был поставлен ошибочно (в действительности болезнь присутствует).\n",
    "\n",
    "Я считаю, что это хороший результат для модели и она может быть применена на практике, но только как средство дополнительного анализа: исключительно по модели сказать болен человек или нет нельзя."
   ]
  }
 ],
 "metadata": {
  "kernelspec": {
   "display_name": "Python 3",
   "language": "python",
   "name": "python3"
  },
  "language_info": {
   "codemirror_mode": {
    "name": "ipython",
    "version": 3
   },
   "file_extension": ".py",
   "mimetype": "text/x-python",
   "name": "python",
   "nbconvert_exporter": "python",
   "pygments_lexer": "ipython3",
   "version": "3.11.5"
  }
 },
 "nbformat": 4,
 "nbformat_minor": 2
}
