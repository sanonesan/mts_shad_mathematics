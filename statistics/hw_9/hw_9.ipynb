{
 "cells": [
  {
   "cell_type": "markdown",
   "metadata": {},
   "source": [
    "# Домашнее задание \n",
    "# Математика — Домашнее задание 9\n",
    "# А.&#8201;Д. Егоров<h1/>"
   ]
  },
  {
   "cell_type": "markdown",
   "metadata": {},
   "source": [
    "## Условие задачи:\n",
    "Задача максимизации:\n",
    "\\begin{equation*}\n",
    "    L = 2x_1 + 3x_2 - x_4 \\rightarrow max,\n",
    "\\end{equation*}\n",
    "ограничения:\n",
    "\\begin{equation*}\n",
    "    \\begin{cases}\n",
    "        2x_1 - x_2 -2x_4 + x_5 = 16, \\\\\n",
    "        3x_1 + 2x_2 + x_3 - 3x_4 =18, \\\\\n",
    "        -x_1 + 3x_2 + x_4 + x_6 = 24, \\\\\n",
    "        x_i \\geqslant 0,\\ i = \\overline{1, 6}.\n",
    "    \\end{cases}\n",
    "\\end{equation*}\n"
   ]
  },
  {
   "cell_type": "markdown",
   "metadata": {},
   "source": [
    "## Аналитическое решение \n",
    "\n",
    "\n",
    "\n",
    "### Замечание\n",
    "Заметим, что исходная задача аналогична второму шагу решения следующей задачи:\n",
    "\\begin{equation*}\n",
    "    L = 2x_1 + 3x_2 - x_4 \\rightarrow max,\n",
    "\\end{equation*}\n",
    "ограничения:\n",
    "\\begin{equation*}\n",
    "    \\begin{cases}\n",
    "        2x_1 - x_2 -2x_4 \\leqslant 16, \\\\\n",
    "        3x_1 + 2x_2 - 3x_4 \\leqslant 18, \\\\\n",
    "        -x_1 + 3x_2 + x_4 \\leqslant 24, \\\\\n",
    "        x_i \\geqslant 0,\\ i = 1,\\,2,\\,4.\n",
    "    \\end{cases}\n",
    "\\end{equation*}\n",
    "\n",
    "### Тогда для исходной задачи\n",
    "составим симплекс таблицу, где за базис выберем переменные, не входящие в минимизируемый функционал."
   ]
  },
  {
   "cell_type": "markdown",
   "metadata": {},
   "source": [
    "|      *Базис* | $x_1$ | $x_2$ | $x_3$ | $x_4$ | $x_5$ | $x_6$ | *Свободные члены* | *Симплекс-отношения* |\n",
    "|          --- |   --- |   --- |   --- |   --- |   --- |   --- |               --- |                  --- |\n",
    "|        $x_3$ |     2 | **-1**|     0 |    -2 |     1 |     0 |                16 |                  -16 |\n",
    "|        $x_5$ |     3 |  **2**|     1 |    -3 |     0 |     0 |                18 |                   9  |\n",
    "|        $x_6$ |    -1 |  **3**|     0 |     4 |     0 |     1 |                24 |                   8  |\n",
    "|            L |    -2 | **-3**|     0 |     1 |     0 |     0 |                 - |                    - |"
   ]
  },
  {
   "cell_type": "markdown",
   "metadata": {},
   "source": [
    "|      *Базис* |  $x_1$ | $x_2$ | $x_3$ | $x_4$ | $x_5$ | $x_6$ | *Свободные члены* | *Симплекс-отношения* |\n",
    "|          --- |    --- |   --- |   --- |   --- |   --- |   --- |               --- |                  --- |\n",
    "|        $x_3$ |**5/3** |     0 |     0 |  -2/3 |     1 |   1/3 |                24 |                 72/5 |\n",
    "|        $x_5$ |**11/3**|     0 |     1 | -17/3 |     0 |  -2/3 |                 2 |                  6/11|\n",
    "|        $x_2$ |**-1/3**|     1 |     0 |   4/3 |     0 |   1/3 |                 8 |                   24 |\n",
    "|            L | **-3** |     0 |     0 |     5 |     0 |     1 |                 - |                    - |"
   ]
  },
  {
   "cell_type": "markdown",
   "metadata": {},
   "source": [
    "|      *Базис* |  $x_1$ | $x_2$ | $x_3$ | $x_4$ | $x_5$ | $x_6$ | *Свободные члены* | *Симплекс-отношения* |\n",
    "|          --- |    --- |   --- |   --- |   --- |   --- |   --- |               --- |                  --- |\n",
    "|        $x_3$ |      0 |     0 | -5/11 | 21/11 |     1 |  7/11 |            254/11 |                    - |\n",
    "|        $x_1$ |      1 |     0 |  3/11 |-17/11 |     0 | -2/11 |              6/11 |                    - |\n",
    "|        $x_2$ |      0 |     1 |  1/11 |  9/11 |     0 |  3/11 |             90/11 |                    - |\n",
    "|            L |      0 |     0 |  9/11 |  4/11 |     0 |  5/11 |                 - |                    - |"
   ]
  },
  {
   "cell_type": "markdown",
   "metadata": {},
   "source": [
    "Все коэффициенты при $L$ стали положительными, следовательно, задача решена. Запишем ответ: \n",
    "\n",
    "Оптимальный план: \n",
    "$$\n",
    "    X = \\left( \\dfrac{6}{11},\\ \\dfrac{90}{11},\\ 0,\\ 0,\\ \\dfrac{254}{11},\\ 0  \\right)^T\n",
    "$$\n",
    "\n",
    "Максимум функционала: \n",
    "$$\n",
    "    L_{max} = 2 \\cdot \\dfrac{6}{11} + 3 \\cdot \\dfrac{90}{11} - 1 \\cdot 0 = \\dfrac{282}{11} \\approx 25.6364\n",
    "$$"
   ]
  },
  {
   "cell_type": "markdown",
   "metadata": {},
   "source": [
    "## Численное решение"
   ]
  },
  {
   "cell_type": "code",
   "execution_count": 1,
   "metadata": {},
   "outputs": [],
   "source": [
    "import numpy as np\n",
    "import scipy.optimize as opt"
   ]
  },
  {
   "cell_type": "markdown",
   "metadata": {},
   "source": [
    "#### С использованием `scipy`"
   ]
  },
  {
   "cell_type": "markdown",
   "metadata": {},
   "source": [
    "|      *Базис* | $x_1$ | $x_2$ | $x_3$ | $x_4$ | $x_5$ | $x_6$ | *Свободные члены* | *Симплекс-отношения* |\n",
    "|          --- |   --- |   --- |   --- |   --- |   --- |   --- |               --- |                  --- |\n",
    "|        $x_3$ |     2 | **-1**|     0 |    -2 |     1 |     0 |                16 |                  -16 |\n",
    "|        $x_5$ |     3 |  **2**|     1 |    -3 |     0 |     0 |                18 |                   9  |\n",
    "|        $x_6$ |    -1 |  **3**|     0 |     4 |     0 |     1 |                24 |                   8  |\n",
    "|            L |    -2 | **-3**|     0 |     1 |     0 |     0 |                 - |                    - |"
   ]
  },
  {
   "cell_type": "code",
   "execution_count": 2,
   "metadata": {},
   "outputs": [
    {
     "name": "stdout",
     "output_type": "stream",
     "text": [
      "[-2, -3, 0, 1, 0, 0]\n"
     ]
    },
    {
     "data": {
      "text/plain": [
       "        message: Optimization terminated successfully. (HiGHS Status 7: Optimal)\n",
       "        success: True\n",
       "         status: 0\n",
       "            fun: -25.636363636363637\n",
       "              x: [ 5.455e-01  8.182e+00  0.000e+00  0.000e+00  2.309e+01\n",
       "                   0.000e+00]\n",
       "            nit: 3\n",
       "          lower:  residual: [ 5.455e-01  8.182e+00  0.000e+00  0.000e+00\n",
       "                              2.309e+01  0.000e+00]\n",
       "                 marginals: [ 0.000e+00  0.000e+00  8.182e-01  3.636e-01\n",
       "                              0.000e+00  4.545e-01]\n",
       "          upper:  residual: [       inf        inf        inf        inf\n",
       "                                    inf        inf]\n",
       "                 marginals: [ 0.000e+00  0.000e+00  0.000e+00  0.000e+00\n",
       "                              0.000e+00  0.000e+00]\n",
       "          eqlin:  residual: [ 0.000e+00  0.000e+00  0.000e+00]\n",
       "                 marginals: [-0.000e+00 -8.182e-01 -4.545e-01]\n",
       "        ineqlin:  residual: []\n",
       "                 marginals: []\n",
       " mip_node_count: 0\n",
       " mip_dual_bound: 0.0\n",
       "        mip_gap: 0.0"
      ]
     },
     "execution_count": 2,
     "metadata": {},
     "output_type": "execute_result"
    }
   ],
   "source": [
    "c = [2, 3, 0, -1, 0, 0]\n",
    "c = [-x for x in c] #for maximization\n",
    "print(c)\n",
    "A = [[2, -1, 0, -2, 1, 0], [3, 2, 1, -3, 0, 0], [-1, 3, 0, 4, 0, 1]]\n",
    "b = [16, 18, 24]\n",
    "\n",
    "opt.linprog(c=c, A_eq=A, b_eq=b)"
   ]
  },
  {
   "cell_type": "markdown",
   "metadata": {},
   "source": [
    "Ответ `fun = -25.636363636363637` надо взять противоположного знака, т.к. по сути здесь мы минимизировали исходный функционал, домноженный на $-1$. \n",
    "\n",
    "\n",
    "Итого, ответ `scipy`: $L_{max} = 25.636363636363637$"
   ]
  },
  {
   "cell_type": "markdown",
   "metadata": {},
   "source": [
    "#### Своя реализация метода"
   ]
  },
  {
   "cell_type": "code",
   "execution_count": 3,
   "metadata": {},
   "outputs": [],
   "source": [
    "def make_simplex_table(c, c0, A, b):\n",
    "    c0 = c0 if c0 != None else 0\n",
    "    n, m = A.shape\n",
    "    basis = np.arange(n) + m\n",
    "    row_constraints = np.hstack((A, np.eye(n), b[:, np.newaxis]))\n",
    "    row_objective = np.hstack((c, np.zeros(n), c0))\n",
    "    row_pseudo_objective = -row_constraints.sum(axis=0)\n",
    "    row_pseudo_objective[basis] = 0\n",
    "\n",
    "    return np.vstack((row_constraints, row_objective, row_pseudo_objective))\n",
    "\n",
    "\n",
    "def get_pivot_col(table, tol=1e-9):\n",
    "    # Non negative condition\n",
    "    # if True => solution found\n",
    "    if np.where(table[-1, :-1] <= -tol)[0].shape[0] == 0:\n",
    "        return False, np.nan\n",
    "\n",
    "    pivot_col = np.where(table[-1, :-1] == np.min(table[-1, :-1]))[0][0]\n",
    "\n",
    "    return True, pivot_col\n",
    "\n",
    "\n",
    "def get_pivot_row(table, basis, pivot_col, phase, tol=1e-9):\n",
    "    if phase == 0:\n",
    "        k = 2\n",
    "    else:\n",
    "        k = 1\n",
    "\n",
    "    # Avoid division by zero\n",
    "    # just divide by very small number\n",
    "    theta_den = np.where(\n",
    "        np.abs(table[:-k, pivot_col]) > tol,\n",
    "        table[:-k, pivot_col],\n",
    "        np.full(table.shape[0] - k, 1e-9)\n",
    "    )\n",
    "\n",
    "    theta = table[:-k, -1] / theta_den\n",
    "    theta_above_zero = np.where(theta >= tol)[0]\n",
    "    if theta_above_zero.shape[0] == 0:\n",
    "        return False, np.nan\n",
    "    pivot_row = np.where(theta == theta[theta_above_zero].min())[0][0]\n",
    "    return True, pivot_row\n",
    "\n",
    "\n",
    "def recalculate_table(table, basis, row_min, col_min, tol):\n",
    "    basis[row_min] = col_min\n",
    "    leader = table[row_min, col_min]\n",
    "    table[row_min] = table[row_min] / leader\n",
    "    for i in range(table.shape[0]):\n",
    "        if i != row_min:\n",
    "            table[i] = table[i] - table[i, col_min] * table[row_min]\n",
    "\n",
    "\n",
    "def solve_simplex(table, n, basis, phase=0, maxiter=1000, tol=1e-9, nit_phase_0=0):\n",
    "    nit = nit_phase_0\n",
    "    compete = False\n",
    "    while not compete:\n",
    "        pivot_col_found, col_min = get_pivot_col(table, tol)\n",
    "        if not pivot_col_found:\n",
    "            compete = True\n",
    "            break\n",
    "        else:\n",
    "            pivot_row_found, row_min = get_pivot_row(table, basis, col_min, phase, tol)\n",
    "            if not pivot_row_found:\n",
    "                compete = True\n",
    "                raise Exception(\"Task has no solution\")\n",
    "\n",
    "        if nit >= maxiter:\n",
    "            compete = True\n",
    "        else:\n",
    "            recalculate_table(table, basis, row_min, col_min, tol)\n",
    "            nit += 1\n",
    "\n",
    "    return nit\n",
    "\n",
    "\n",
    "def my_simplex_impl(c, c0=None, A=None, b=None, maxiter=1000, tol=1e-9):\n",
    "    \"\"\"\n",
    "    Simplex method implementation\n",
    "    method=\"artificial basis\"\n",
    "\n",
    "    c : functional coefs.\n",
    "    c0 : free functional coef.\n",
    "    A : matrix with conditions.\n",
    "    b : free coeficients of conditions.\n",
    "    maxiter: limit for iterations.\n",
    "    tol: tolerance.\n",
    "    \"\"\"\n",
    "    A = np.array(A)\n",
    "    b = np.array(b)\n",
    "    c = np.array(c)\n",
    "\n",
    "    is_negative_constraint = np.less(b, 0)\n",
    "    A[is_negative_constraint] *= -1\n",
    "    b[is_negative_constraint] *= -1\n",
    "\n",
    "    n, m = A.shape\n",
    "    # Get basis\n",
    "    basis = np.arange(n) + m\n",
    "    basis_first = basis.copy()\n",
    "\n",
    "    # Get simplex matrix for artificial basis method\n",
    "    table = make_simplex_table(c, c0, A, b)\n",
    "\n",
    "    # phase 0 (with pseudo objective row)\n",
    "    nit_phase_0 = solve_simplex(table, n, basis, phase=0, tol=tol)\n",
    "\n",
    "    # if pseudo objective row zero remove it from tableau\n",
    "    if abs(table[-1, -1]) < tol:\n",
    "        table = table[:-1, :]\n",
    "        table = np.delete(table, basis_first, 1)\n",
    "    else:\n",
    "        raise Exception(\"Task cannot be solved\")\n",
    "\n",
    "    # phase 1 (no pseudo objective row)\n",
    "    nit = solve_simplex(table, n, basis, phase=1, tol=tol, nit_phase_0=nit_phase_0)\n",
    "\n",
    "    # optimal x\n",
    "    x = np.zeros(m)\n",
    "    for i in range(n):\n",
    "        x[basis[i]] = table[i, -1]\n",
    "\n",
    "    # functional optimum\n",
    "    fun = sum([c[i] * x[i] for i in range(len(x))]) + (c0 if c0 != None else 0)\n",
    "    return x, fun, nit"
   ]
  },
  {
   "cell_type": "code",
   "execution_count": 4,
   "metadata": {},
   "outputs": [
    {
     "name": "stdout",
     "output_type": "stream",
     "text": [
      " opt_x = [ 0.54545455  8.18181818  0.          0.         23.09090909  0.        ] \n",
      " L(opt_x) = -25.636363636363637\n"
     ]
    }
   ],
   "source": [
    "c = [2, 3, 0, -1, 0, 0]\n",
    "c = [-x for x in c]  # for maximization\n",
    "A = [[2, -1, 0, -2, 1, 0], [3, 2, 1, -3, 0, 0], [-1, 3, 0, 4, 0, 1]]\n",
    "b = [16, 18, 24]\n",
    "\n",
    "x, fun, _ = my_simplex_impl(c=c, A=A, b=b) \n",
    "res = f\" opt_x = {x} \\n L(opt_x) = {fun}\"\n",
    "print(res)"
   ]
  },
  {
   "cell_type": "markdown",
   "metadata": {},
   "source": [
    "Ответ `fun = -25.636363636363637` надо взять противоположного знака, т.к. по сути здесь мы минимизировали исходный функционал, домноженный на $-1$. \n",
    "\n",
    "\n",
    "Итого, ответ: $L_{max} = 25.636363636363637$"
   ]
  },
  {
   "cell_type": "markdown",
   "metadata": {},
   "source": []
  }
 ],
 "metadata": {
  "kernelspec": {
   "display_name": "Python 3",
   "language": "python",
   "name": "python3"
  },
  "language_info": {
   "codemirror_mode": {
    "name": "ipython",
    "version": 3
   },
   "file_extension": ".py",
   "mimetype": "text/x-python",
   "name": "python",
   "nbconvert_exporter": "python",
   "pygments_lexer": "ipython3",
   "version": "3.10.12"
  }
 },
 "nbformat": 4,
 "nbformat_minor": 2
}
